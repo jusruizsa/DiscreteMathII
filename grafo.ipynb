{
  "nbformat": 4,
  "nbformat_minor": 0,
  "metadata": {
    "colab": {
      "name": "grafo.ipynb",
      "provenance": [],
      "collapsed_sections": []
    },
    "kernelspec": {
      "name": "python3",
      "display_name": "Python 3"
    }
  },
  "cells": [
    {
      "cell_type": "markdown",
      "metadata": {
        "id": "iMs55IVuONkF",
        "colab_type": "text"
      },
      "source": [
        "# **Automorfismos del grafo**"
      ]
    },
    {
      "cell_type": "markdown",
      "metadata": {
        "id": "9G37GeMLO-1Z",
        "colab_type": "text"
      },
      "source": [
        "Son automorfismos de un grafo lo ismorfismos es decir, todas la configuraciones de vertices que mantengan la union de los vertices del grafo $Aut(\\varGamma)$.\n",
        "\n",
        "Diciendolo de forma tecnica, un automorfismo de un gráfo G  = ( V , A ) es una permutación f del conjunto de vértices V , de manera que el par de vértices ( u , v ) forman un borde si y sólo si el par (f ( u ), f ( v )) también forman un borde. \n",
        "\n",
        "El problema de contar los automorfismos del grafo pertenece a la clase NP de la complejidad computacional. Al igual que en el problema de isomorfismo de grafos, se desconoce si tiene un tiempo polinómico algoritmo o es NP-completo .\n",
        "\n",
        "---\n",
        "\n"
      ]
    },
    {
      "cell_type": "markdown",
      "metadata": {
        "id": "ZUFF7IVDP-r9",
        "colab_type": "text"
      },
      "source": [
        "Definimos la función *automorfismo*, la cual tomará la permutación del grafo convertido en lista, realiza la permutación al grafo y evalua si es automorfismo comparando cada vertice de la permutación con el vertice del grafo original."
      ]
    },
    {
      "cell_type": "code",
      "metadata": {
        "id": "IX2D0Q2RLp-_",
        "colab_type": "code",
        "colab": {}
      },
      "source": [
        "import copy\n",
        "\n",
        "def automorfismo(a, b, grafo, copy_grafo):\n",
        "  automorfismos = []\n",
        "  verificacion = 0\n",
        "  for i in range(len(grafo)): #realiza la permutacion en el grafo\n",
        "    for j in range(2):\n",
        "      if grafo[i][j] == a:\n",
        "        grafo[i][j] = b\n",
        "      elif grafo[i][j] == b:\n",
        "        grafo[i][j] = a\n",
        "\n",
        "  for i in grafo:\n",
        "    index =  [i[1], i[0]]\n",
        "    if i not in copy_grafo: #comprobar si la combinacion es automorfismo\n",
        "      if index not in copy_grafo:\n",
        "        verificacion = -1\n",
        "    \n",
        "  if verificacion == 0:\n",
        "    aut_grafo = copy.deepcopy(grafo)\n",
        "    automorfismos.append(aut_grafo)\n",
        "  \n",
        "  return automorfismos"
      ],
      "execution_count": null,
      "outputs": []
    },
    {
      "cell_type": "markdown",
      "metadata": {
        "id": "W95Kfno6Q5bg",
        "colab_type": "text"
      },
      "source": [
        "La función *permuta* recibe el grafo convertido en lista, y realiza todas las permutaciones de la lista pasando esta a la funcion *automorfismo*."
      ]
    },
    {
      "cell_type": "code",
      "metadata": {
        "id": "EWMFqlN6ISuA",
        "colab_type": "code",
        "colab": {}
      },
      "source": [
        "def permuta(array, grafo, copy_grafo): #obtiene todas las permutaciones de un arreglo\n",
        "  c = []\n",
        "  automorfismos = []\n",
        "  for i in range(len(array)):\n",
        "    c.append(0)\n",
        "\n",
        "  i = 0\n",
        "  while i < len(array):\n",
        "    aut = []\n",
        "    if c[i] < i:\n",
        "      if i % 2 == 0:\n",
        "        array[0], array[i] = array[i], array[0]\n",
        "        a, b = array[i], array[0]\n",
        "      else:\n",
        "        array[i], array[c[i]] = array[c[i]], array[i]\n",
        "        a, b = array[c[i]], array[i]\n",
        "      aut = automorfismo(a, b, grafo, copy_grafo)\n",
        "      if len(aut) > 0:\n",
        "        automorfismos.append(aut) #Comprobar si la permutacion es automorfismo\n",
        "      c[i] += 1\n",
        "      i = 0\n",
        "    else:\n",
        "      c[i] = 0\n",
        "      i += 1\n",
        "  return automorfismos"
      ],
      "execution_count": null,
      "outputs": []
    },
    {
      "cell_type": "markdown",
      "metadata": {
        "id": "bwqVDWSTRchO",
        "colab_type": "text"
      },
      "source": [
        "Con la variable *grafo* definimos el grafo original al cual se le buscaran los automorfismos.\\\n",
        "El arreglo grafo se convierte en una lista y esta lista se pasa como parametro de la función *permuta*\n",
        "\\\n",
        "Finalmente imprimimos los automorfismos del grafo."
      ]
    },
    {
      "cell_type": "code",
      "metadata": {
        "id": "YqisgEzi_wZz",
        "colab_type": "code",
        "colab": {
          "base_uri": "https://localhost:8080/",
          "height": 170
        },
        "outputId": "247fde26-2611-459b-801f-704a0dc35514"
      },
      "source": [
        "grafo = [[1,2],[1,3],[2,3],[3,4],[4,5],[4,6],[5,6]]\n",
        "\n",
        "copy_grafo = copy.deepcopy(grafo)\n",
        "\n",
        "grafo_tolist = []  #Convertir el grafo  una lista sin elementos repetidos\n",
        "for i in grafo:\n",
        "  for j in i:\n",
        "    if j not in grafo_tolist:\n",
        "      grafo_tolist.append(j)\n",
        "\n",
        "print('Grafo original: ', grafo)\n",
        "automorfismos = permuta(grafo_tolist, grafo, copy_grafo)\n",
        "print('Automorfismos del grafo: ')\n",
        "for i in automorfismos:\n",
        "  print(i)"
      ],
      "execution_count": null,
      "outputs": [
        {
          "output_type": "stream",
          "text": [
            "Grafo original:  [[1, 2], [1, 3], [2, 3], [3, 4], [4, 5], [4, 6], [5, 6]]\n",
            "Automorfismos del grafo: \n",
            "[[[2, 1], [2, 3], [1, 3], [3, 4], [4, 5], [4, 6], [5, 6]]]\n",
            "[[[2, 1], [2, 3], [1, 3], [3, 4], [4, 6], [4, 5], [6, 5]]]\n",
            "[[[1, 2], [1, 3], [2, 3], [3, 4], [4, 6], [4, 5], [6, 5]]]\n",
            "[[[6, 5], [6, 4], [5, 4], [4, 3], [3, 1], [3, 2], [1, 2]]]\n",
            "[[[5, 6], [5, 4], [6, 4], [4, 3], [3, 1], [3, 2], [1, 2]]]\n",
            "[[[5, 6], [5, 4], [6, 4], [4, 3], [3, 2], [3, 1], [2, 1]]]\n",
            "[[[6, 5], [6, 4], [5, 4], [4, 3], [3, 2], [3, 1], [2, 1]]]\n"
          ],
          "name": "stdout"
        }
      ]
    }
  ]
}