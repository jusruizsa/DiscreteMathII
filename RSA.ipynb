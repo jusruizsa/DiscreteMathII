{
  "nbformat": 4,
  "nbformat_minor": 0,
  "metadata": {
    "kernelspec": {
      "display_name": "Python 3",
      "language": "python",
      "name": "python3"
    },
    "language_info": {
      "codemirror_mode": {
        "name": "ipython",
        "version": 3
      },
      "file_extension": ".py",
      "mimetype": "text/x-python",
      "name": "python",
      "nbconvert_exporter": "python",
      "pygments_lexer": "ipython3",
      "version": "3.7.6"
    },
    "colab": {
      "name": "RSA.ipynb",
      "provenance": [],
      "collapsed_sections": []
    }
  },
  "cells": [
    {
      "cell_type": "markdown",
      "metadata": {
        "id": "AL2g4olP2GoD",
        "colab_type": "text"
      },
      "source": [
        "#Algoritmo RSA y su funionamiento\n",
        "\n",
        "Los criptosistemas de clave pública denominados tambien asimétricos, utilizan claves distintas para el cifrado y descifrado de la información. Su principal ventaja es que facilitan el proceso de distribución e intercambio de claves entre los participantes de la comunicación segura, que era un problema importante de los criptosistemas simétricos o de clave privada.\n",
        "\n",
        "Este es un sistema para cifrado o cofificación llamado asi por sus siglas en ingles RSA (Rivest, Shamir y Adleman) que son los apellidos de sus inventores: Ronald Rivest, Adi Shamir y Leonard Adleman, que publicaron por primera vez el método RSA en 1977. \n",
        "\n",
        "La seguridad de este algoritmo radica en el problema de la factorización de el producto, conocido, de dos números primos grandes elegidos al azar y mantenidos en secreto, se considera que es un problema de clase NP, es decir, un problema para el que existe uno o más algoritmos que lo resuelven, pero ninguno de los algoritmos conocidos se ejecutan en un tiempo polinomial (que pueda ser expresado polinómicamente en función del tamaño de los datos de entrada), y por lo tanto son ineficientes o intratables para datos de entrada muy grandes.\n"
      ]
    },
    {
      "cell_type": "markdown",
      "metadata": {
        "id": "pzFP3yAgGpZH",
        "colab_type": "text"
      },
      "source": [
        "Primero definimos la funcion **primo()** cuya función es simplemente comprobar que el numero ingresado es primo, lo necesitaremos mas adelante teniendo en cuenta que que la seguridad del sistema radica en que el producto sea de dos primos:\n",
        "\n",
        "Tomamos un numero entero p y probamos su divisivilidad hasta su raiz cuadrada segun el teorema de Pocklington."
      ]
    },
    {
      "cell_type": "code",
      "metadata": {
        "id": "zzT4t-Z_eaBj",
        "colab_type": "code",
        "colab": {}
      },
      "source": [
        "import math\n",
        " \n",
        "def primo(p):\n",
        "  q = 2\n",
        "  r = int(math.sqrt(p))\n",
        "  while(q <= r):\n",
        "    if (p % q == 0):\n",
        "      return False\n",
        "    q = q + 1\n",
        " \n",
        "  return True"
      ],
      "execution_count": null,
      "outputs": []
    },
    {
      "cell_type": "markdown",
      "metadata": {
        "id": "u9hodeuA_Ka_",
        "colab_type": "text"
      },
      "source": [
        "Definimos la función **primalidad()** con la que podemos generar un numero aleatorio primo , importamos el modulo **random** y generamos un numero aleatoriao *p* que pasamos a la función **primo()** si nos retorna **false** incrementamos *p* en 1 y volvemos a verificar."
      ]
    },
    {
      "cell_type": "code",
      "metadata": {
        "id": "AKT2i6n8eRc9",
        "colab_type": "code",
        "colab": {}
      },
      "source": [
        "import random\n",
        " \n",
        "def primalidad(n):\n",
        "  p = random.randint(n, 2*n)\n",
        "  while(primo(p) == False):\n",
        "    p = p + 1\n",
        "    if(p == 2*n):\n",
        "      p = n\n",
        " \n",
        "  return p"
      ],
      "execution_count": null,
      "outputs": []
    },
    {
      "cell_type": "markdown",
      "metadata": {
        "id": "nx2Qw8dOKXNq",
        "colab_type": "text"
      },
      "source": [
        "Y ahora definimos la función **inversoMod()** para hallar el valor *d*  que es  el multiplicador modular inverso y sera la clave privada:\n",
        "\n",
        "Probamos con los numeros naturales hasta obeter como resultado 1 lo que significa que es el numero inverso y retornamos. "
      ]
    },
    {
      "cell_type": "code",
      "metadata": {
        "id": "Qtgm96cytMC_",
        "colab_type": "code",
        "colab": {}
      },
      "source": [
        "def inversoMod(a, m):\n",
        "  x = 0\n",
        "  for b in range(m):\n",
        "    x = (a * b) % m\n",
        "    if x == 1:\n",
        "      return b\n",
        "  return 0\n",
        "\n"
      ],
      "execution_count": null,
      "outputs": []
    },
    {
      "cell_type": "markdown",
      "metadata": {
        "id": "tScdWHwcAx6y",
        "colab_type": "text"
      },
      "source": [
        "Con las funciones necesarias definidas implementamos el algoritmo:\n",
        "> Generamos los dos numeros primos $p$ y $q$ aleatorioamente con la llamada a la funcion **primalidad()**\n",
        "\n",
        "> Guardamos el numero $n$ que se obtiene al multiplicar $p$ y $q$\n",
        "\n",
        "Antes de que podamos enviarle un mensaje a alguien más, ese destinatario habrá generado las claves.\n",
        "\n",
        "> Guardamos el numero $\\phi(n)$ en la variable **phi_n**, se obtiene con la multiplicación de $(p-1) * (q-1)$\n",
        "\n",
        ">Seleccionamos el numero $e$ para la clave publica que cumpla con la propiedad $[e, \\phi(n)]=1$ , en este caso seleccionamos el $1511$\n",
        "\n",
        ">El numero $d$ que será nuestra clave privada lo obtenemos llamando la función **inversomod(e,phi_n)**\n",
        "\n"
      ]
    },
    {
      "cell_type": "code",
      "metadata": {
        "id": "F8LcEOFBeTbE",
        "colab_type": "code",
        "colab": {
          "base_uri": "https://localhost:8080/",
          "height": 102
        },
        "outputId": "bc0d4322-239f-49d8-8a55-6ad74db39af9"
      },
      "source": [
        "p = primalidad(100)\n",
        "print('Valor de p = ', p)\n",
        "q = primalidad(100)\n",
        "print('Valor de q = ', q)\n",
        "n = p * q\n",
        "print('Valor de n = ', n)\n",
        "phi_n = (p-1) * (q-1)\n",
        "print('Valor de phi_n = ', phi_n)\n",
        "e = 1511\n",
        "d = inversoMod(e, phi_n)\n",
        "if d < 0:\n",
        "  d = d + p\n",
        "  \n",
        "print('Valor de d = ', d)"
      ],
      "execution_count": null,
      "outputs": [
        {
          "output_type": "stream",
          "text": [
            "Valor de p =  157\n",
            "Valor de q =  151\n",
            "Valor de n =  23707\n",
            "Valor de phi_n =  23400\n",
            "Valor de d =  7991\n"
          ],
          "name": "stdout"
        }
      ]
    },
    {
      "cell_type": "markdown",
      "metadata": {
        "id": "gbRob0-kHKYg",
        "colab_type": "text"
      },
      "source": [
        "Posterior a esto solo queda cifrar y descifrar el mensaje:\n",
        "Para cifrar el mensaje  basta con tener la clave publica que consta de los valores de $e$ y $n$.\n",
        "Elevamos el mensaje $M$ al numero $e$ y este resultado modulo $n$, en este caso el mensaje es el numero de cuenta 151:"
      ]
    },
    {
      "cell_type": "code",
      "metadata": {
        "id": "bhVjN1A3H8lC",
        "colab_type": "code",
        "colab": {
          "base_uri": "https://localhost:8080/",
          "height": 34
        },
        "outputId": "cbff942d-8404-45cb-cdc9-3b3296d488bf"
      },
      "source": [
        "M=151\n",
        "cifrado= (M**e)%n\n",
        "cifrado"
      ],
      "execution_count": null,
      "outputs": [
        {
          "output_type": "execute_result",
          "data": {
            "text/plain": [
              "453"
            ]
          },
          "metadata": {
            "tags": []
          },
          "execution_count": 9
        }
      ]
    },
    {
      "cell_type": "markdown",
      "metadata": {
        "id": "ZMl4YofEIwC_",
        "colab_type": "text"
      },
      "source": [
        "Y el receptor del mensaje que debe tener la clave privada que consta de los valores $d$ y $n$ debe hacer la operación con $d$, eleva el mensaje cifrado a la $d$ y modulo $n$:"
      ]
    },
    {
      "cell_type": "code",
      "metadata": {
        "id": "wdGZtVA3JKRy",
        "colab_type": "code",
        "colab": {
          "base_uri": "https://localhost:8080/",
          "height": 34
        },
        "outputId": "f42024e3-9170-4c01-c445-4b101c783b03"
      },
      "source": [
        "decifrado = (cifrado**d) % n\n",
        "decifrado"
      ],
      "execution_count": null,
      "outputs": [
        {
          "output_type": "execute_result",
          "data": {
            "text/plain": [
              "151"
            ]
          },
          "metadata": {
            "tags": []
          },
          "execution_count": 10
        }
      ]
    }
  ]
}